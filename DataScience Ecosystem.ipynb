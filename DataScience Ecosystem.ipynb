{
 "cells": [
  {
   "cell_type": "markdown",
   "id": "f6626f05",
   "metadata": {},
   "source": [
    "# Data Science Tools and Ecosystem"
   ]
  },
  {
   "cell_type": "markdown",
   "id": "109a0c83",
   "metadata": {},
   "source": [
    "In this notebook, Data Science Tools and Ecosystem are summarized."
   ]
  },
  {
   "cell_type": "code",
   "execution_count": null,
   "id": "4f0d482c",
   "metadata": {},
   "outputs": [],
   "source": [
    "Objectives:\n",
    "Python\n",
    "SQL\n",
    "Jupyter Notebook"
   ]
  },
  {
   "cell_type": "markdown",
   "id": "106672de",
   "metadata": {},
   "source": [
    "Some of the popular languages that Data Scientists use are:"
   ]
  },
  {
   "cell_type": "markdown",
   "id": "917567f5",
   "metadata": {},
   "source": [
    "1. Python\n",
    "2. R\n",
    "3. SQL\n",
    "4. JavaScript"
   ]
  },
  {
   "cell_type": "markdown",
   "id": "0a4f80b1",
   "metadata": {},
   "source": [
    "Some of the commonly used libraries used by Data Scientists include:\n",
    "1. Schikit learn\n",
    "2. Keras\n",
    "3. Numpy"
   ]
  },
  {
   "cell_type": "markdown",
   "id": "a3be55de",
   "metadata": {},
   "source": [
    "Data Science Tools\n",
    "1. Jupyter Notebook\n",
    "2. Rstudio\n",
    "3. Spyder\n",
    "4. Visual Studio Code"
   ]
  },
  {
   "cell_type": "markdown",
   "id": "960fb661",
   "metadata": {},
   "source": [
    "### Below are a few examples of evaluating arithmetic expressions in Python"
   ]
  },
  {
   "cell_type": "code",
   "execution_count": 1,
   "id": "7b5a0835",
   "metadata": {},
   "outputs": [
    {
     "data": {
      "text/plain": [
       "3.3333333333333335"
      ]
     },
     "execution_count": 1,
     "metadata": {},
     "output_type": "execute_result"
    }
   ],
   "source": [
    "# his will convert 200 minutes to hours by diving by 60 \n",
    "200/60"
   ]
  },
  {
   "cell_type": "markdown",
   "id": "1801659b",
   "metadata": {},
   "source": [
    "## Author\n",
    "Nima"
   ]
  }
 ],
 "metadata": {
  "kernelspec": {
   "display_name": "Python 3 (ipykernel)",
   "language": "python",
   "name": "python3"
  },
  "language_info": {
   "codemirror_mode": {
    "name": "ipython",
    "version": 3
   },
   "file_extension": ".py",
   "mimetype": "text/x-python",
   "name": "python",
   "nbconvert_exporter": "python",
   "pygments_lexer": "ipython3",
   "version": "3.9.13"
  }
 },
 "nbformat": 4,
 "nbformat_minor": 5
}
